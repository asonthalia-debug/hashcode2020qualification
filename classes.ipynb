{
 "cells": [
  {
   "cell_type": "code",
   "execution_count": 85,
   "metadata": {},
   "outputs": [],
   "source": [
    "class Book:\n",
    "    \n",
    "    def __init__(self, id, score):\n",
    "        self.id = id\n",
    "        self.score = score\n",
    "    \n",
    "    def __str__(self):\n",
    "        return \"id: {}, score: {}\".format(self.id, self.score)"
   ]
  },
  {
   "cell_type": "code",
   "execution_count": 86,
   "metadata": {},
   "outputs": [],
   "source": [
    "# book = Book(0, 45)\n",
    "# print(book)\n",
    "books = []\n",
    "library = None"
   ]
  },
  {
   "cell_type": "code",
   "execution_count": 176,
   "metadata": {},
   "outputs": [],
   "source": [
    "class Library:\n",
    "    \n",
    "    def __init__(self, books, stime, scans_per_day):\n",
    "        books.sort(key=lambda x : x.score, reverse=True)\n",
    "        self.books = books\n",
    "        self.stime = stime\n",
    "        self.scans_per_day = scans_per_day\n",
    "    \n",
    "    def __str__(self):\n",
    "        return_str =  \"Signup Time: {}\\nScans per day: {}\".format(self.stime, self.scans_per_day)\n",
    "        return_str += \"\\n\"\n",
    "        for book in self.books:\n",
    "            return_str += str(book) + \"\\n\"\n",
    "        return return_str"
   ]
  },
  {
   "cell_type": "code",
   "execution_count": 177,
   "metadata": {},
   "outputs": [],
   "source": [
    "# book1 = Book(1, 23)\n",
    "# book2 = Book(5, 23)\n",
    "# book5 = Book(6, 90)\n",
    "# book3 = Book(1, 26)\n",
    "# book4 = Book(4, 23)\n",
    "\n",
    "\n",
    "# books = []\n",
    "# books.append(book1)\n",
    "# books.append(book2)\n",
    "# books.append(book3)\n",
    "# books.append(book4)\n",
    "# books.append(book5)\n",
    "\n",
    "# stime = 0.4\n",
    "# spd = 5\n",
    "\n",
    "# library = Library(books, stime, spd)\n",
    "# print(library)\n"
   ]
  },
  {
   "cell_type": "code",
   "execution_count": 208,
   "metadata": {},
   "outputs": [],
   "source": [
    "class Instance:\n",
    "    \n",
    "    def __init__(self, infile):\n",
    "        \n",
    "        books = []\n",
    "        \n",
    "        f = open(infile, \"r\")\n",
    "        lines = f.readlines()\n",
    "        line1 = lines[0]\n",
    "        line2 = lines[1]\n",
    "        \n",
    "#         print(line1)\n",
    "#         print(line2)\n",
    "        \n",
    "        \n",
    "        line1 = line1.split(\" \")\n",
    "        self.num_books = int(line1[0])\n",
    "        self.num_libraries = int(line1[1])\n",
    "        self.num_days = int(line1[2])\n",
    "        \n",
    "        line2 = line2.split(\" \")\n",
    "        bookset = []\n",
    "        for i, score in enumerate(line2):\n",
    "            id = i\n",
    "            score = int(score)\n",
    "            book = Book(i, score)\n",
    "#             print(book)\n",
    "            bookset.append(book)\n",
    "        \n",
    "        self.bookset = bookset\n",
    "        lines = lines[2:]\n",
    "        libraries = []\n",
    "        for i in range(2*(self.num_libraries)):\n",
    "#             print(lines[i])\n",
    "            tokens = (lines[i]).split(\" \")\n",
    "            tokens = [int(token) for token in tokens]\n",
    "#             print(tokens)\n",
    "            if(i%2 == 0):\n",
    "                N, T, M = tokens[0], tokens[1], tokens[2]\n",
    "            \n",
    "            else:\n",
    "                books = []\n",
    "                for token in tokens:\n",
    "#                     print(token)\n",
    "                    book = bookset[token]\n",
    "                    \n",
    "                    books.append(book)\n",
    "#                 for book in books:\n",
    "#                     print(book)\n",
    "                library = Library(books, T, M)\n",
    "#                 print(library.books)\n",
    "                libraries.append(library)\n",
    "#             if books:\n",
    "#                 print(books[0])\n",
    "        self.libraries = libraries\n",
    "    \n",
    "    def __str__(self):\n",
    "        return_str = \"\"\n",
    "        return_str += \"Number of books: {}\\n\".format(self.num_books)\n",
    "        return_str += \"Number of libraries: {}\\n\".format(self.num_libraries)\n",
    "        return_str += \"Number of days: {}\\n\".format(self.num_days)\n",
    "        return_str += \"Bookset:\\n\"\n",
    "        for book in bookset:\n",
    "            return_str += str(book) + \"\\n\"\n",
    "        for i, library in enumerate(self.libraries):\n",
    "            return_str += \"Library {}\\n-----------\\n\".format(i+1)\n",
    "            return_str += str(library) + \"\\n\"\n",
    "        \n",
    "        return return_str\n",
    "    \n",
    "                \n",
    "        "
   ]
  },
  {
   "cell_type": "code",
   "execution_count": 210,
   "metadata": {},
   "outputs": [],
   "source": [
    "# instance = Instance(\"input/a_example.txt\")\n",
    "# # bookset = instance.bookset\n",
    "# print(instance)\n",
    "# # for book in bookset:\n",
    "# #     print(book)"
   ]
  },
  {
   "cell_type": "code",
   "execution_count": 115,
   "metadata": {},
   "outputs": [
    {
     "name": "stdout",
     "output_type": "stream",
     "text": [
      "6\n",
      "2\n",
      "7\n",
      "id: 3, score: 6\n",
      "Signup Time: 2\n",
      "Scans per day: 2\n",
      "\n"
     ]
    }
   ],
   "source": [
    "print(instance.num_books)\n",
    "print(instance.num_libraries)\n",
    "print(instance.num_days)\n",
    "print(instance.bookset[3])\n",
    "print(instance.libraries[1])\n"
   ]
  },
  {
   "cell_type": "code",
   "execution_count": null,
   "metadata": {},
   "outputs": [],
   "source": []
  }
 ],
 "metadata": {
  "kernelspec": {
   "display_name": "Python 3",
   "language": "python",
   "name": "python3"
  },
  "language_info": {
   "codemirror_mode": {
    "name": "ipython",
    "version": 2
   },
   "file_extension": ".py",
   "mimetype": "text/x-python",
   "name": "python",
   "nbconvert_exporter": "python",
   "pygments_lexer": "ipython2",
   "version": "2.7.15+"
  }
 },
 "nbformat": 4,
 "nbformat_minor": 2
}
